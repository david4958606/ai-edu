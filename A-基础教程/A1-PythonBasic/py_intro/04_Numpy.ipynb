{
 "cells": [
  {
   "cell_type": "markdown",
   "metadata": {
    "slideshow": {
     "slide_type": "slide"
    }
   },
   "source": [
    "# Numpy\n",
    "\n",
    "[numpy的功能](https://www.numpy.org/devdocs/user/quickstart.html)"
   ]
  },
  {
   "cell_type": "markdown",
   "metadata": {
    "slideshow": {
     "slide_type": "slide"
    }
   },
   "source": [
    "## 引入Numpy的目的\n",
    "\n",
    "- 为何不直接用list？\n",
    "    - 慢\n",
    "    - 缺少数学操作"
   ]
  },
  {
   "cell_type": "code",
   "execution_count": 16,
   "metadata": {
    "slideshow": {
     "slide_type": "subslide"
    }
   },
   "outputs": [
    {
     "output_type": "error",
     "ename": "TypeError",
     "evalue": "unsupported operand type(s) for ** or pow(): 'list' and 'int'",
     "traceback": [
      "\u001b[1;31m---------------------------------------------------------------------------\u001b[0m",
      "\u001b[1;31mTypeError\u001b[0m                                 Traceback (most recent call last)",
      "\u001b[1;32m<ipython-input-16-287881938841>\u001b[0m in \u001b[0;36m<module>\u001b[1;34m\u001b[0m\n\u001b[0;32m      1\u001b[0m \u001b[0mheights\u001b[0m \u001b[1;33m=\u001b[0m \u001b[1;33m[\u001b[0m\u001b[1;36m1.73\u001b[0m\u001b[1;33m,\u001b[0m \u001b[1;36m1.68\u001b[0m\u001b[1;33m,\u001b[0m \u001b[1;36m1.71\u001b[0m\u001b[1;33m,\u001b[0m \u001b[1;36m1.89\u001b[0m\u001b[1;33m,\u001b[0m \u001b[1;36m1.79\u001b[0m\u001b[1;33m]\u001b[0m \u001b[1;31m# 5人的身高\u001b[0m\u001b[1;33m\u001b[0m\u001b[1;33m\u001b[0m\u001b[0m\n\u001b[0;32m      2\u001b[0m \u001b[0mweights\u001b[0m \u001b[1;33m=\u001b[0m \u001b[1;33m[\u001b[0m\u001b[1;36m65.4\u001b[0m\u001b[1;33m,\u001b[0m \u001b[1;36m59.2\u001b[0m\u001b[1;33m,\u001b[0m \u001b[1;36m63.6\u001b[0m\u001b[1;33m,\u001b[0m \u001b[1;36m88.4\u001b[0m\u001b[1;33m,\u001b[0m \u001b[1;36m68.7\u001b[0m\u001b[1;33m]\u001b[0m \u001b[1;31m# 5人的体重\u001b[0m\u001b[1;33m\u001b[0m\u001b[1;33m\u001b[0m\u001b[0m\n\u001b[1;32m----> 3\u001b[1;33m \u001b[0mbmis\u001b[0m \u001b[1;33m=\u001b[0m \u001b[0mweights\u001b[0m \u001b[1;33m/\u001b[0m \u001b[0mheights\u001b[0m \u001b[1;33m**\u001b[0m \u001b[1;36m2\u001b[0m            \u001b[1;31m# 却不能直接计算5人的BMI\u001b[0m\u001b[1;33m\u001b[0m\u001b[1;33m\u001b[0m\u001b[0m\n\u001b[0m",
      "\u001b[1;31mTypeError\u001b[0m: unsupported operand type(s) for ** or pow(): 'list' and 'int'"
     ]
    }
   ],
   "source": [
    "heights = [1.73, 1.68, 1.71, 1.89, 1.79] # 5人的身高\n",
    "weights = [65.4, 59.2, 63.6, 88.4, 68.7] # 5人的体重\n",
    "bmis = weights / heights ** 2            # 却不能直接计算5人的BMI"
   ]
  },
  {
   "cell_type": "code",
   "execution_count": 17,
   "metadata": {
    "slideshow": {
     "slide_type": "subslide"
    }
   },
   "outputs": [
    {
     "output_type": "execute_result",
     "data": {
      "text/plain": [
       "array([21.85171573, 20.97505669, 21.75028214, 24.7473475 , 21.44127836])"
      ]
     },
     "metadata": {},
     "execution_count": 17
    }
   ],
   "source": [
    "import numpy as np \n",
    "np_heights = np.array(heights)        # array，向量，通常只包含数值\n",
    "np_weights = np.array(weights)\n",
    "bmis = np_weights / np_heights ** 2   # 这里计算的单元是一个向量\n",
    "bmis"
   ]
  },
  {
   "cell_type": "markdown",
   "metadata": {
    "slideshow": {
     "slide_type": "subslide"
    }
   },
   "source": [
    "##### 更新BMI公式，现在是对向量做计算\n",
    "\\begin{equation}\\vec{BMIS} = \\frac{\\vec{weights}}{\\vec{heights}^{2}}\\end{equation}"
   ]
  },
  {
   "cell_type": "code",
   "execution_count": 18,
   "metadata": {
    "slideshow": {
     "slide_type": "subslide"
    }
   },
   "outputs": [
    {
     "output_type": "execute_result",
     "data": {
      "text/plain": [
       "array([ True, False,  True,  True,  True])"
      ]
     },
     "metadata": {},
     "execution_count": 18
    }
   ],
   "source": [
    "bmis > 21  # 符合直觉的结果，"
   ]
  },
  {
   "cell_type": "code",
   "execution_count": 19,
   "metadata": {
    "slideshow": {
     "slide_type": "subslide"
    }
   },
   "outputs": [
    {
     "output_type": "error",
     "ename": "TypeError",
     "evalue": "type numpy.ndarray doesn't define __round__ method",
     "traceback": [
      "\u001b[1;31m---------------------------------------------------------------------------\u001b[0m",
      "\u001b[1;31mTypeError\u001b[0m                                 Traceback (most recent call last)",
      "\u001b[1;32m<ipython-input-19-2607667d896a>\u001b[0m in \u001b[0;36m<module>\u001b[1;34m\u001b[0m\n\u001b[1;32m----> 1\u001b[1;33m \u001b[0mround\u001b[0m\u001b[1;33m(\u001b[0m\u001b[0mbmis\u001b[0m\u001b[1;33m)\u001b[0m \u001b[1;31m# 只有numpy.ndarray支持的方法\u001b[0m\u001b[1;33m\u001b[0m\u001b[1;33m\u001b[0m\u001b[0m\n\u001b[0m",
      "\u001b[1;31mTypeError\u001b[0m: type numpy.ndarray doesn't define __round__ method"
     ]
    }
   ],
   "source": [
    "round(bmis) # 只有numpy.ndarray支持的方法"
   ]
  },
  {
   "cell_type": "code",
   "execution_count": 20,
   "metadata": {
    "slideshow": {
     "slide_type": "subslide"
    }
   },
   "outputs": [
    {
     "output_type": "execute_result",
     "data": {
      "text/plain": [
       "array([22., 21., 22., 25., 21.])"
      ]
     },
     "metadata": {},
     "execution_count": 20
    }
   ],
   "source": [
    "np.round(bmis) # 需要使用np重载的方法 round函数：四舍五入"
   ]
  },
  {
   "cell_type": "code",
   "execution_count": 23,
   "metadata": {
    "slideshow": {
     "slide_type": "subslide"
    }
   },
   "outputs": [
    {
     "output_type": "execute_result",
     "data": {
      "text/plain": [
       "True"
      ]
     },
     "metadata": {},
     "execution_count": 23
    }
   ],
   "source": [
    "np.max(bmis) == max(bmis) # 大胆地猜想这两种方法应该都可以"
   ]
  },
  {
   "cell_type": "code",
   "execution_count": 22,
   "metadata": {
    "slideshow": {
     "slide_type": "subslide"
    },
    "tags": [
     "outputPrepend"
    ]
   },
   "outputs": [
    {
     "output_type": "stream",
     "name": "stdout",
     "text": [
      "ument: reverses the order of the axes.\n |      \n |       * tuple of ints: `i` in the `j`-th place in the tuple means `a`'s\n |         `i`-th axis becomes `a.transpose()`'s `j`-th axis.\n |      \n |       * `n` ints: same as an n-tuple of the same ints (this form is\n |         intended simply as a \"convenience\" alternative to the tuple form)\n |      \n |      Returns\n |      -------\n |      out : ndarray\n |          View of `a`, with axes suitably permuted.\n |      \n |      See Also\n |      --------\n |      ndarray.T : Array property returning the array transposed.\n |      \n |      Examples\n |      --------\n |      >>> a = np.array([[1, 2], [3, 4]])\n |      >>> a\n |      array([[1, 2],\n |             [3, 4]])\n |      >>> a.transpose()\n |      array([[1, 3],\n |             [2, 4]])\n |      >>> a.transpose((1, 0))\n |      array([[1, 3],\n |             [2, 4]])\n |      >>> a.transpose(1, 0)\n |      array([[1, 3],\n |             [2, 4]])\n |  \n |  var(...)\n |      a.var(axis=None, dtype=None, out=None, ddof=0, keepdims=False)\n |      \n |      Returns the variance of the array elements, along given axis.\n |      \n |      Refer to `numpy.var` for full documentation.\n |      \n |      See Also\n |      --------\n |      numpy.var : equivalent function\n |  \n |  view(...)\n |      a.view(dtype=None, type=None)\n |      \n |      New view of array with the same data.\n |      \n |      Parameters\n |      ----------\n |      dtype : data-type or ndarray sub-class, optional\n |          Data-type descriptor of the returned view, e.g., float32 or int16. The\n |          default, None, results in the view having the same data-type as `a`.\n |          This argument can also be specified as an ndarray sub-class, which\n |          then specifies the type of the returned object (this is equivalent to\n |          setting the ``type`` parameter).\n |      type : Python type, optional\n |          Type of the returned view, e.g., ndarray or matrix.  Again, the\n |          default None results in type preservation.\n |      \n |      Notes\n |      -----\n |      ``a.view()`` is used two different ways:\n |      \n |      ``a.view(some_dtype)`` or ``a.view(dtype=some_dtype)`` constructs a view\n |      of the array's memory with a different data-type.  This can cause a\n |      reinterpretation of the bytes of memory.\n |      \n |      ``a.view(ndarray_subclass)`` or ``a.view(type=ndarray_subclass)`` just\n |      returns an instance of `ndarray_subclass` that looks at the same array\n |      (same shape, dtype, etc.)  This does not cause a reinterpretation of the\n |      memory.\n |      \n |      For ``a.view(some_dtype)``, if ``some_dtype`` has a different number of\n |      bytes per entry than the previous dtype (for example, converting a\n |      regular array to a structured array), then the behavior of the view\n |      cannot be predicted just from the superficial appearance of ``a`` (shown\n |      by ``print(a)``). It also depends on exactly how ``a`` is stored in\n |      memory. Therefore if ``a`` is C-ordered versus fortran-ordered, versus\n |      defined as a slice or transpose, etc., the view may give different\n |      results.\n |      \n |      \n |      Examples\n |      --------\n |      >>> x = np.array([(1, 2)], dtype=[('a', np.int8), ('b', np.int8)])\n |      \n |      Viewing array data using a different type and dtype:\n |      \n |      >>> y = x.view(dtype=np.int16, type=np.matrix)\n |      >>> y\n |      matrix([[513]], dtype=int16)\n |      >>> print(type(y))\n |      <class 'numpy.matrixlib.defmatrix.matrix'>\n |      \n |      Creating a view on a structured array so it can be used in calculations\n |      \n |      >>> x = np.array([(1, 2),(3,4)], dtype=[('a', np.int8), ('b', np.int8)])\n |      >>> xv = x.view(dtype=np.int8).reshape(-1,2)\n |      >>> xv\n |      array([[1, 2],\n |             [3, 4]], dtype=int8)\n |      >>> xv.mean(0)\n |      array([ 2.,  3.])\n |      \n |      Making changes to the view changes the underlying array\n |      \n |      >>> xv[0,1] = 20\n |      >>> print(x)\n |      [(1, 20) (3, 4)]\n |      \n |      Using a view to convert an array to a recarray:\n |      \n |      >>> z = x.view(np.recarray)\n |      >>> z.a\n |      array([1], dtype=int8)\n |      \n |      Views share data:\n |      \n |      >>> x[0] = (9, 10)\n |      >>> z[0]\n |      (9, 10)\n |      \n |      Views that change the dtype size (bytes per entry) should normally be\n |      avoided on arrays defined by slices, transposes, fortran-ordering, etc.:\n |      \n |      >>> x = np.array([[1,2,3],[4,5,6]], dtype=np.int16)\n |      >>> y = x[:, 0:2]\n |      >>> y\n |      array([[1, 2],\n |             [4, 5]], dtype=int16)\n |      >>> y.view(dtype=[('width', np.int16), ('length', np.int16)])\n |      Traceback (most recent call last):\n |        File \"<stdin>\", line 1, in <module>\n |      ValueError: new type not compatible with array.\n |      >>> z = y.copy()\n |      >>> z.view(dtype=[('width', np.int16), ('length', np.int16)])\n |      array([[(1, 2)],\n |             [(4, 5)]], dtype=[('width', '<i2'), ('length', '<i2')])\n |  \n |  ----------------------------------------------------------------------\n |  Static methods defined here:\n |  \n |  __new__(*args, **kwargs) from builtins.type\n |      Create and return a new object.  See help(type) for accurate signature.\n |  \n |  ----------------------------------------------------------------------\n |  Data descriptors defined here:\n |  \n |  T\n |      Same as self.transpose(), except that self is returned if\n |      self.ndim < 2.\n |      \n |      Examples\n |      --------\n |      >>> x = np.array([[1.,2.],[3.,4.]])\n |      >>> x\n |      array([[ 1.,  2.],\n |             [ 3.,  4.]])\n |      >>> x.T\n |      array([[ 1.,  3.],\n |             [ 2.,  4.]])\n |      >>> x = np.array([1.,2.,3.,4.])\n |      >>> x\n |      array([ 1.,  2.,  3.,  4.])\n |      >>> x.T\n |      array([ 1.,  2.,  3.,  4.])\n |  \n |  __array_finalize__\n |      None.\n |  \n |  __array_interface__\n |      Array protocol: Python side.\n |  \n |  __array_priority__\n |      Array priority.\n |  \n |  __array_struct__\n |      Array protocol: C-struct side.\n |  \n |  base\n |      Base object if memory is from some other object.\n |      \n |      Examples\n |      --------\n |      The base of an array that owns its memory is None:\n |      \n |      >>> x = np.array([1,2,3,4])\n |      >>> x.base is None\n |      True\n |      \n |      Slicing creates a view, whose memory is shared with x:\n |      \n |      >>> y = x[2:]\n |      >>> y.base is x\n |      True\n |  \n |  ctypes\n |      An object to simplify the interaction of the array with the ctypes\n |      module.\n |      \n |      This attribute creates an object that makes it easier to use arrays\n |      when calling shared libraries with the ctypes module. The returned\n |      object has, among others, data, shape, and strides attributes (see\n |      Notes below) which themselves return ctypes objects that can be used\n |      as arguments to a shared library.\n |      \n |      Parameters\n |      ----------\n |      None\n |      \n |      Returns\n |      -------\n |      c : Python object\n |          Possessing attributes data, shape, strides, etc.\n |      \n |      See Also\n |      --------\n |      numpy.ctypeslib\n |      \n |      Notes\n |      -----\n |      Below are the public attributes of this object which were documented\n |      in \"Guide to NumPy\" (we have omitted undocumented public attributes,\n |      as well as documented private attributes):\n |      \n |      .. autoattribute:: numpy.core._internal._ctypes.data\n |      \n |      .. autoattribute:: numpy.core._internal._ctypes.shape\n |      \n |      .. autoattribute:: numpy.core._internal._ctypes.strides\n |      \n |      .. automethod:: numpy.core._internal._ctypes.data_as\n |      \n |      .. automethod:: numpy.core._internal._ctypes.shape_as\n |      \n |      .. automethod:: numpy.core._internal._ctypes.strides_as\n |      \n |      If the ctypes module is not available, then the ctypes attribute\n |      of array objects still returns something useful, but ctypes objects\n |      are not returned and errors may be raised instead. In particular,\n |      the object will still have the as parameter attribute which will\n |      return an integer equal to the data attribute.\n |      \n |      Examples\n |      --------\n |      >>> import ctypes\n |      >>> x\n |      array([[0, 1],\n |             [2, 3]])\n |      >>> x.ctypes.data\n |      30439712\n |      >>> x.ctypes.data_as(ctypes.POINTER(ctypes.c_long))\n |      <ctypes.LP_c_long object at 0x01F01300>\n |      >>> x.ctypes.data_as(ctypes.POINTER(ctypes.c_long)).contents\n |      c_long(0)\n |      >>> x.ctypes.data_as(ctypes.POINTER(ctypes.c_longlong)).contents\n |      c_longlong(4294967296L)\n |      >>> x.ctypes.shape\n |      <numpy.core._internal.c_long_Array_2 object at 0x01FFD580>\n |      >>> x.ctypes.shape_as(ctypes.c_long)\n |      <numpy.core._internal.c_long_Array_2 object at 0x01FCE620>\n |      >>> x.ctypes.strides\n |      <numpy.core._internal.c_long_Array_2 object at 0x01FCE620>\n |      >>> x.ctypes.strides_as(ctypes.c_longlong)\n |      <numpy.core._internal.c_longlong_Array_2 object at 0x01F01300>\n |  \n |  data\n |      Python buffer object pointing to the start of the array's data.\n |  \n |  dtype\n |      Data-type of the array's elements.\n |      \n |      Parameters\n |      ----------\n |      None\n |      \n |      Returns\n |      -------\n |      d : numpy dtype object\n |      \n |      See Also\n |      --------\n |      numpy.dtype\n |      \n |      Examples\n |      --------\n |      >>> x\n |      array([[0, 1],\n |             [2, 3]])\n |      >>> x.dtype\n |      dtype('int32')\n |      >>> type(x.dtype)\n |      <type 'numpy.dtype'>\n |  \n |  flags\n |      Information about the memory layout of the array.\n |      \n |      Attributes\n |      ----------\n |      C_CONTIGUOUS (C)\n |          The data is in a single, C-style contiguous segment.\n |      F_CONTIGUOUS (F)\n |          The data is in a single, Fortran-style contiguous segment.\n |      OWNDATA (O)\n |          The array owns the memory it uses or borrows it from another object.\n |      WRITEABLE (W)\n |          The data area can be written to.  Setting this to False locks\n |          the data, making it read-only.  A view (slice, etc.) inherits WRITEABLE\n |          from its base array at creation time, but a view of a writeable\n |          array may be subsequently locked while the base array remains writeable.\n |          (The opposite is not true, in that a view of a locked array may not\n |          be made writeable.  However, currently, locking a base object does not\n |          lock any views that already reference it, so under that circumstance it\n |          is possible to alter the contents of a locked array via a previously\n |          created writeable view onto it.)  Attempting to change a non-writeable\n |          array raises a RuntimeError exception.\n |      ALIGNED (A)\n |          The data and all elements are aligned appropriately for the hardware.\n |      WRITEBACKIFCOPY (X)\n |          This array is a copy of some other array. The C-API function\n |          PyArray_ResolveWritebackIfCopy must be called before deallocating\n |          to the base array will be updated with the contents of this array.\n |      UPDATEIFCOPY (U)\n |          (Deprecated, use WRITEBACKIFCOPY) This array is a copy of some other array.\n |          When this array is\n |          deallocated, the base array will be updated with the contents of\n |          this array.\n |      FNC\n |          F_CONTIGUOUS and not C_CONTIGUOUS.\n |      FORC\n |          F_CONTIGUOUS or C_CONTIGUOUS (one-segment test).\n |      BEHAVED (B)\n |          ALIGNED and WRITEABLE.\n |      CARRAY (CA)\n |          BEHAVED and C_CONTIGUOUS.\n |      FARRAY (FA)\n |          BEHAVED and F_CONTIGUOUS and not C_CONTIGUOUS.\n |      \n |      Notes\n |      -----\n |      The `flags` object can be accessed dictionary-like (as in ``a.flags['WRITEABLE']``),\n |      or by using lowercased attribute names (as in ``a.flags.writeable``). Short flag\n |      names are only supported in dictionary access.\n |      \n |      Only the WRITEBACKIFCOPY, UPDATEIFCOPY, WRITEABLE, and ALIGNED flags can be\n |      changed by the user, via direct assignment to the attribute or dictionary\n |      entry, or by calling `ndarray.setflags`.\n |      \n |      The array flags cannot be set arbitrarily:\n |      \n |      - UPDATEIFCOPY can only be set ``False``.\n |      - WRITEBACKIFCOPY can only be set ``False``.\n |      - ALIGNED can only be set ``True`` if the data is truly aligned.\n |      - WRITEABLE can only be set ``True`` if the array owns its own memory\n |        or the ultimate owner of the memory exposes a writeable buffer\n |        interface or is a string.\n |      \n |      Arrays can be both C-style and Fortran-style contiguous simultaneously.\n |      This is clear for 1-dimensional arrays, but can also be true for higher\n |      dimensional arrays.\n |      \n |      Even for contiguous arrays a stride for a given dimension\n |      ``arr.strides[dim]`` may be *arbitrary* if ``arr.shape[dim] == 1``\n |      or the array has no elements.\n |      It does *not* generally hold that ``self.strides[-1] == self.itemsize``\n |      for C-style contiguous arrays or ``self.strides[0] == self.itemsize`` for\n |      Fortran-style contiguous arrays is true.\n |  \n |  flat\n |      A 1-D iterator over the array.\n |      \n |      This is a `numpy.flatiter` instance, which acts similarly to, but is not\n |      a subclass of, Python's built-in iterator object.\n |      \n |      See Also\n |      --------\n |      flatten : Return a copy of the array collapsed into one dimension.\n |      \n |      flatiter\n |      \n |      Examples\n |      --------\n |      >>> x = np.arange(1, 7).reshape(2, 3)\n |      >>> x\n |      array([[1, 2, 3],\n |             [4, 5, 6]])\n |      >>> x.flat[3]\n |      4\n |      >>> x.T\n |      array([[1, 4],\n |             [2, 5],\n |             [3, 6]])\n |      >>> x.T.flat[3]\n |      5\n |      >>> type(x.flat)\n |      <type 'numpy.flatiter'>\n |      \n |      An assignment example:\n |      \n |      >>> x.flat = 3; x\n |      array([[3, 3, 3],\n |             [3, 3, 3]])\n |      >>> x.flat[[1,4]] = 1; x\n |      array([[3, 1, 3],\n |             [3, 1, 3]])\n |  \n |  imag\n |      The imaginary part of the array.\n |      \n |      Examples\n |      --------\n |      >>> x = np.sqrt([1+0j, 0+1j])\n |      >>> x.imag\n |      array([ 0.        ,  0.70710678])\n |      >>> x.imag.dtype\n |      dtype('float64')\n |  \n |  itemsize\n |      Length of one array element in bytes.\n |      \n |      Examples\n |      --------\n |      >>> x = np.array([1,2,3], dtype=np.float64)\n |      >>> x.itemsize\n |      8\n |      >>> x = np.array([1,2,3], dtype=np.complex128)\n |      >>> x.itemsize\n |      16\n |  \n |  nbytes\n |      Total bytes consumed by the elements of the array.\n |      \n |      Notes\n |      -----\n |      Does not include memory consumed by non-element attributes of the\n |      array object.\n |      \n |      Examples\n |      --------\n |      >>> x = np.zeros((3,5,2), dtype=np.complex128)\n |      >>> x.nbytes\n |      480\n |      >>> np.prod(x.shape) * x.itemsize\n |      480\n |  \n |  ndim\n |      Number of array dimensions.\n |      \n |      Examples\n |      --------\n |      >>> x = np.array([1, 2, 3])\n |      >>> x.ndim\n |      1\n |      >>> y = np.zeros((2, 3, 4))\n |      >>> y.ndim\n |      3\n |  \n |  real\n |      The real part of the array.\n |      \n |      Examples\n |      --------\n |      >>> x = np.sqrt([1+0j, 0+1j])\n |      >>> x.real\n |      array([ 1.        ,  0.70710678])\n |      >>> x.real.dtype\n |      dtype('float64')\n |      \n |      See Also\n |      --------\n |      numpy.real : equivalent function\n |  \n |  shape\n |      Tuple of array dimensions.\n |      \n |      The shape property is usually used to get the current shape of an array,\n |      but may also be used to reshape the array in-place by assigning a tuple of\n |      array dimensions to it.  As with `numpy.reshape`, one of the new shape\n |      dimensions can be -1, in which case its value is inferred from the size of\n |      the array and the remaining dimensions. Reshaping an array in-place will\n |      fail if a copy is required.\n |      \n |      Examples\n |      --------\n |      >>> x = np.array([1, 2, 3, 4])\n |      >>> x.shape\n |      (4,)\n |      >>> y = np.zeros((2, 3, 4))\n |      >>> y.shape\n |      (2, 3, 4)\n |      >>> y.shape = (3, 8)\n |      >>> y\n |      array([[ 0.,  0.,  0.,  0.,  0.,  0.,  0.,  0.],\n |             [ 0.,  0.,  0.,  0.,  0.,  0.,  0.,  0.],\n |             [ 0.,  0.,  0.,  0.,  0.,  0.,  0.,  0.]])\n |      >>> y.shape = (3, 6)\n |      Traceback (most recent call last):\n |        File \"<stdin>\", line 1, in <module>\n |      ValueError: total size of new array must be unchanged\n |      >>> np.zeros((4,2))[::2].shape = (-1,)\n |      Traceback (most recent call last):\n |        File \"<stdin>\", line 1, in <module>\n |      AttributeError: incompatible shape for a non-contiguous array\n |      \n |      See Also\n |      --------\n |      numpy.reshape : similar function\n |      ndarray.reshape : similar method\n |  \n |  size\n |      Number of elements in the array.\n |      \n |      Equal to ``np.prod(a.shape)``, i.e., the product of the array's\n |      dimensions.\n |      \n |      Notes\n |      -----\n |      `a.size` returns a standard arbitrary precision Python integer. This\n |      may not be the case with other methods of obtaining the same value\n |      (like the suggested ``np.prod(a.shape)``, which returns an instance\n |      of ``np.int_``), and may be relevant if the value is used further in\n |      calculations that may overflow a fixed size integer type.\n |      \n |      Examples\n |      --------\n |      >>> x = np.zeros((3, 5, 2), dtype=np.complex128)\n |      >>> x.size\n |      30\n |      >>> np.prod(x.shape)\n |      30\n |  \n |  strides\n |      Tuple of bytes to step in each dimension when traversing an array.\n |      \n |      The byte offset of element ``(i[0], i[1], ..., i[n])`` in an array `a`\n |      is::\n |      \n |          offset = sum(np.array(i) * a.strides)\n |      \n |      A more detailed explanation of strides can be found in the\n |      \"ndarray.rst\" file in the NumPy reference guide.\n |      \n |      Notes\n |      -----\n |      Imagine an array of 32-bit integers (each 4 bytes)::\n |      \n |        x = np.array([[0, 1, 2, 3, 4],\n |                      [5, 6, 7, 8, 9]], dtype=np.int32)\n |      \n |      This array is stored in memory as 40 bytes, one after the other\n |      (known as a contiguous block of memory).  The strides of an array tell\n |      us how many bytes we have to skip in memory to move to the next position\n |      along a certain axis.  For example, we have to skip 4 bytes (1 value) to\n |      move to the next column, but 20 bytes (5 values) to get to the same\n |      position in the next row.  As such, the strides for the array `x` will be\n |      ``(20, 4)``.\n |      \n |      See Also\n |      --------\n |      numpy.lib.stride_tricks.as_strided\n |      \n |      Examples\n |      --------\n |      >>> y = np.reshape(np.arange(2*3*4), (2,3,4))\n |      >>> y\n |      array([[[ 0,  1,  2,  3],\n |              [ 4,  5,  6,  7],\n |              [ 8,  9, 10, 11]],\n |             [[12, 13, 14, 15],\n |              [16, 17, 18, 19],\n |              [20, 21, 22, 23]]])\n |      >>> y.strides\n |      (48, 16, 4)\n |      >>> y[1,1,1]\n |      17\n |      >>> offset=sum(y.strides * np.array((1,1,1)))\n |      >>> offset/y.itemsize\n |      17\n |      \n |      >>> x = np.reshape(np.arange(5*6*7*8), (5,6,7,8)).transpose(2,3,1,0)\n |      >>> x.strides\n |      (32, 4, 224, 1344)\n |      >>> i = np.array([3,5,2,2])\n |      >>> offset = sum(i * x.strides)\n |      >>> x[3,5,2,2]\n |      813\n |      >>> offset / x.itemsize\n |      813\n |  \n |  ----------------------------------------------------------------------\n |  Data and other attributes defined here:\n |  \n |  __hash__ = None\n\n"
     ]
    }
   ],
   "source": [
    "help(np.ndarray)  # 文档即教程"
   ]
  },
  {
   "cell_type": "markdown",
   "metadata": {
    "slideshow": {
     "slide_type": "slide"
    }
   },
   "source": [
    "## 关于Numpy类型"
   ]
  },
  {
   "cell_type": "code",
   "execution_count": 24,
   "metadata": {
    "slideshow": {
     "slide_type": "subslide"
    }
   },
   "outputs": [
    {
     "output_type": "execute_result",
     "data": {
      "text/plain": [
       "numpy.ndarray"
      ]
     },
     "metadata": {},
     "execution_count": 24
    }
   ],
   "source": [
    "type(np_weights)                   # 应该返回numpy的类型"
   ]
  },
  {
   "cell_type": "code",
   "execution_count": 25,
   "metadata": {
    "slideshow": {
     "slide_type": "subslide"
    }
   },
   "outputs": [
    {
     "output_type": "execute_result",
     "data": {
      "text/plain": [
       "numpy.ndarray"
      ]
     },
     "metadata": {},
     "execution_count": 25
    }
   ],
   "source": [
    "mixed_list = [1.0, \"is\", True] # 通用类型的list\n",
    "type(np.array(mixed_list))     # 转化为numpy array"
   ]
  },
  {
   "cell_type": "code",
   "execution_count": 26,
   "metadata": {
    "slideshow": {
     "slide_type": "subslide"
    }
   },
   "outputs": [
    {
     "output_type": "execute_result",
     "data": {
      "text/plain": [
       "array(['1.0', 'is', 'True'], dtype='<U32')"
      ]
     },
     "metadata": {},
     "execution_count": 26
    }
   ],
   "source": [
    "np.array(mixed_list)               # 数据类型是字符串"
   ]
  },
  {
   "cell_type": "markdown",
   "metadata": {
    "slideshow": {
     "slide_type": "subslide"
    }
   },
   "source": [
    "##### 深入了解numpy数据类型\n",
    "[dtype](https://docs.scipy.org/doc/numpy/reference/arrays.dtypes.html)"
   ]
  },
  {
   "cell_type": "markdown",
   "metadata": {
    "slideshow": {
     "slide_type": "subslide"
    }
   },
   "source": [
    "##### 快速检索开发文档\n",
    ">具有本地索引的应用程序，Jupyter的help菜单速度不够快\n",
    "\n",
    "- [Dash](https://kapeli.com/dash)\n",
    "- [velocity](http://velocity.silverlakesoftware.com/)"
   ]
  },
  {
   "cell_type": "markdown",
   "metadata": {
    "slideshow": {
     "slide_type": "slide"
    }
   },
   "source": [
    "## 数理统计和线性代数基础"
   ]
  },
  {
   "cell_type": "markdown",
   "metadata": {
    "slideshow": {
     "slide_type": "subslide"
    }
   },
   "source": [
    "##### 数理统计的例子\n",
    "- 在大样本数据上计算身高体重指数\n",
    "- 把前面5人的例子扩大1000倍\n",
    "- 随机产生一个正态分布"
   ]
  },
  {
   "cell_type": "markdown",
   "metadata": {
    "slideshow": {
     "slide_type": "subslide"
    }
   },
   "source": [
    "> [正态分布生成](https://docs.scipy.org/doc/numpy/reference/generated/numpy.random.normal.html?highlight=random%20normal#numpy.random.normal)文档\n",
    "![文档链接](http://bazhou.blob.core.windows.net/learning/mpp/npnormal_doc.png)"
   ]
  },
  {
   "cell_type": "markdown",
   "metadata": {
    "slideshow": {
     "slide_type": "subslide"
    }
   },
   "source": [
    "![正态分布生成文档快照](http://bazhou.blob.core.windows.net/learning/mpp/npnormal.png)"
   ]
  },
  {
   "cell_type": "markdown",
   "metadata": {
    "slideshow": {
     "slide_type": "subslide"
    }
   },
   "source": [
    "##### 中国成年人身高，体重均值和标准差的参考值 （2015）\n",
    "|性别|东北华北|西北|东南|华中|华南|西南|\n",
    "|-|-|-|-|-|-|-|\n",
    "|身高，体重|均值，标准差|均值，标准差|均值，标准差|均值，标准差|均值，标准差|均值，标准差|\n",
    "|男(mm)|1693, 56.6|1684, 53.7|1686, 55,2|1669, 56.3|1650, 57.1|1647, 56.7|\n",
    "|女(mm)|1586, 51.8|1575, 51.9|1575, 50.8|1560, 50.7|1549, 49.7|1546, 53.9|\n",
    "|男(kg)|64, 8.2|60, 7.6|59, 7.7|57, 6.9|56, 6.9|55, 6.8|\n",
    "|女(kg)|55, 7.1|52, 7.1|51, 7.2|50, 6.8|49, 6.5|50, 6.9|\n",
    "\n",
    "> 选择东南地区成年男性数据：身高：1686, 55.2，体重：59, 7.7"
   ]
  },
  {
   "cell_type": "code",
   "execution_count": 27,
   "metadata": {
    "slideshow": {
     "slide_type": "subslide"
    }
   },
   "outputs": [
    {
     "output_type": "execute_result",
     "data": {
      "text/plain": [
       "array([[ 1.72977113, 70.05648429],\n",
       "       [ 1.58168615, 66.06020716],\n",
       "       [ 1.64380589, 61.26949663],\n",
       "       ...,\n",
       "       [ 1.72016105, 49.83499569],\n",
       "       [ 1.62885905, 54.51738762],\n",
       "       [ 1.56720622, 64.97467783]])"
      ]
     },
     "metadata": {},
     "execution_count": 27
    }
   ],
   "source": [
    "height_5k = np.random.normal(1.686, 0.0552, 5000)   # 5000身高数据\n",
    "weight_5k = np.random.normal(59, 7.7, 5000)         # 5000体重数据\n",
    "shmale_5k = np.column_stack((height_5k, weight_5k)) # 5000上海男性数据\n",
    "shmale_5k                                           # 随机产生一些瘦子和胖子"
   ]
  },
  {
   "cell_type": "code",
   "execution_count": 29,
   "metadata": {
    "slideshow": {
     "slide_type": "subslide"
    }
   },
   "outputs": [
    {
     "output_type": "stream",
     "name": "stdout",
     "text": [
      "上海男            均值    标准差\n------------  --------  --------\n身高（米）     1.68415   0.05407\n体重（公斤）  58.7905    7.74411\n"
     ]
    }
   ],
   "source": [
    "shmale_weight = shmale_5k[:,1]\n",
    "shmale_height = shmale_5k[:,0]\n",
    "shmale_height_mean = np.mean(shmale_height)  # 身高均值\n",
    "shmale_height_std = np.std(shmale_height)    # 身高标准差\n",
    "shmale_weight_mean = np.mean(shmale_weight)  # 体重均值\n",
    "shmale_weight_std = np.std(shmale_weight)    # 体重标准差\n",
    "from tabulate import tabulate                # 格式化成表格样式\n",
    "print(tabulate([['身高（米）', shmale_height_mean, shmale_height_std], \n",
    "                ['体重（公斤）', shmale_weight_mean, shmale_weight_std]], \n",
    "               headers=['上海男','均值', '标准差']))\n"
   ]
  },
  {
   "cell_type": "code",
   "execution_count": 30,
   "metadata": {
    "slideshow": {
     "slide_type": "subslide"
    }
   },
   "outputs": [
    {
     "output_type": "execute_result",
     "data": {
      "text/plain": [
       "array([23.41375387, 26.40579858, 22.67478857, ..., 16.84209858,\n",
       "       20.54792772, 26.45402996])"
      ]
     },
     "metadata": {},
     "execution_count": 30
    }
   ],
   "source": [
    "shmale_bmi = shmale_weight / shmale_height ** 2 # 计算5000身高体重指数\n",
    "shmale_bmi"
   ]
  },
  {
   "cell_type": "code",
   "execution_count": 31,
   "metadata": {
    "slideshow": {
     "slide_type": "subslide"
    }
   },
   "outputs": [
    {
     "output_type": "stream",
     "name": "stdout",
     "text": [
      "21.0 3.0\n"
     ]
    }
   ],
   "source": [
    "print(np.round(np.mean(shmale_bmi)), np.round(np.std(shmale_bmi)))  # 上海男性体型分布"
   ]
  },
  {
   "cell_type": "markdown",
   "metadata": {
    "slideshow": {
     "slide_type": "subslide"
    }
   },
   "source": [
    "##### 线性代数例子\n",
    "- 解方程组\n",
    "\\begin{equation}2x + 3y = 8 \\end{equation}\n",
    "\\begin{equation}5x + 2y = 9 \\end{equation}\n",
    "\n",
    "- 用矩阵的形式表示为\n",
    "$$ A = \\begin{bmatrix}2 & 3\\\\5 & 2\\end{bmatrix} \\;\\;\\;\\; \\vec{b} = \\begin{bmatrix}8\\\\9\\end{bmatrix}$$\n",
    "\n",
    "- 目标是求向量x\n",
    "$$ A\\vec{x}= \\vec{b} $$"
   ]
  },
  {
   "cell_type": "code",
   "execution_count": 32,
   "metadata": {
    "slideshow": {
     "slide_type": "subslide"
    }
   },
   "outputs": [
    {
     "output_type": "execute_result",
     "data": {
      "text/plain": [
       "array([[2, 5],\n",
       "       [3, 2]])"
      ]
     },
     "metadata": {},
     "execution_count": 32
    }
   ],
   "source": [
    "a = np.array([[2, 3], [5, 2]]) # 方程组系数矩阵\n",
    "a.transpose()                  # 转置"
   ]
  },
  {
   "cell_type": "code",
   "execution_count": 33,
   "metadata": {
    "slideshow": {
     "slide_type": "subslide"
    }
   },
   "outputs": [
    {
     "output_type": "stream",
     "name": "stdout",
     "text": [
      "(2,) (2, 2)\n"
     ]
    },
    {
     "output_type": "execute_result",
     "data": {
      "text/plain": [
       "array([8, 9])"
      ]
     },
     "metadata": {},
     "execution_count": 33
    }
   ],
   "source": [
    "b = np.array([8, 9])\n",
    "print(b.shape, a.shape)         # shape不是函数，是tuple\n",
    "b.transpose()"
   ]
  },
  {
   "cell_type": "code",
   "execution_count": 34,
   "metadata": {
    "slideshow": {
     "slide_type": "subslide"
    }
   },
   "outputs": [
    {
     "output_type": "stream",
     "name": "stdout",
     "text": [
      "  A    0    1\n---  ---  ---\n  0    2    3\n  1    5    2\n"
     ]
    }
   ],
   "source": [
    "# 矩阵的索引\n",
    "print(tabulate([['0', a[0,0], a[0,1]], \n",
    "                ['1', a[1,0], a[1,1]]], \n",
    "               headers=['A', '0', '1']))"
   ]
  },
  {
   "cell_type": "markdown",
   "metadata": {
    "slideshow": {
     "slide_type": "subslide"
    }
   },
   "source": [
    ">[矩阵运算](https://docs.scipy.org/doc/numpy/reference/routines.linalg.html)文档\n",
    "![linalg](http://bazhou.blob.core.windows.net/learning/mpp/linalg.png)"
   ]
  },
  {
   "cell_type": "markdown",
   "metadata": {
    "slideshow": {
     "slide_type": "subslide"
    }
   },
   "source": [
    "![矩阵求逆](http://bazhou.blob.core.windows.net/learning/mpp/linalg.inv.png)"
   ]
  },
  {
   "cell_type": "code",
   "execution_count": 35,
   "metadata": {
    "slideshow": {
     "slide_type": "subslide"
    }
   },
   "outputs": [
    {
     "output_type": "execute_result",
     "data": {
      "text/plain": [
       "array([[-0.18181818,  0.27272727],\n",
       "       [ 0.45454545, -0.18181818]])"
      ]
     },
     "metadata": {},
     "execution_count": 35
    }
   ],
   "source": [
    "# 矩阵求逆\n",
    "from numpy.linalg import inv as inv\n",
    "a_inv = inv(a)\n",
    "a_inv"
   ]
  },
  {
   "cell_type": "markdown",
   "metadata": {
    "slideshow": {
     "slide_type": "subslide"
    }
   },
   "source": [
    "$$ A^{-1}A=\\begin{bmatrix}1 & 0\\\\0 & 1\\end{bmatrix} $$"
   ]
  },
  {
   "cell_type": "code",
   "execution_count": 36,
   "metadata": {
    "slideshow": {
     "slide_type": "subslide"
    }
   },
   "outputs": [
    {
     "output_type": "execute_result",
     "data": {
      "text/plain": [
       "array([[ 1.,  0.],\n",
       "       [-0.,  1.]])"
      ]
     },
     "metadata": {},
     "execution_count": 36
    }
   ],
   "source": [
    "np.round(a_inv @ a) # 逆矩阵和原矩阵乘来验证求逆, @代表矩阵乘"
   ]
  },
  {
   "cell_type": "markdown",
   "metadata": {
    "slideshow": {
     "slide_type": "subslide"
    }
   },
   "source": [
    "$$ A^{-1}A\\vec{x}=A^{-1}\\vec{b}$$\n",
    "\n",
    "\n",
    "$$ \\begin{bmatrix}1 & 0\\\\0 & 1\\end{bmatrix}\\vec{x}= A^{-1}\\vec{b}$$\n",
    "\n",
    "\n",
    "$$ \\vec{x} = A^{-1}\\vec{b}$$\n"
   ]
  },
  {
   "cell_type": "code",
   "execution_count": 37,
   "metadata": {
    "slideshow": {
     "slide_type": "subslide"
    }
   },
   "outputs": [
    {
     "output_type": "execute_result",
     "data": {
      "text/plain": [
       "array([1., 2.])"
      ]
     },
     "metadata": {},
     "execution_count": 37
    }
   ],
   "source": [
    "x = a_inv @ b\n",
    "x"
   ]
  },
  {
   "cell_type": "code",
   "execution_count": 38,
   "metadata": {
    "slideshow": {
     "slide_type": "subslide"
    }
   },
   "outputs": [
    {
     "output_type": "execute_result",
     "data": {
      "text/plain": [
       "array([1., 2.])"
      ]
     },
     "metadata": {},
     "execution_count": 38
    }
   ],
   "source": [
    "from numpy.linalg import solve as solve # 引入求解方法\n",
    "solve(a, b)"
   ]
  },
  {
   "cell_type": "markdown",
   "metadata": {
    "slideshow": {
     "slide_type": "subslide"
    }
   },
   "source": [
    "$$ \\vec{x} = \\begin{bmatrix}1\\\\2\\end{bmatrix} $$\n",
    "\n",
    "\n",
    "$$ x=1 $$\n",
    "$$ y=2 $$"
   ]
  },
  {
   "cell_type": "markdown",
   "metadata": {
    "slideshow": {
     "slide_type": "subslide"
    }
   },
   "source": []
  }
 ],
 "metadata": {
  "celltoolbar": "Slideshow",
  "kernelspec": {
   "display_name": "Python 3",
   "language": "python",
   "name": "python3"
  },
  "language_info": {
   "codemirror_mode": {
    "name": "ipython",
    "version": 3
   },
   "file_extension": ".py",
   "mimetype": "text/x-python",
   "name": "python",
   "nbconvert_exporter": "python",
   "pygments_lexer": "ipython3",
   "version": "3.8.5-final"
  },
  "livereveal": {
   "scroll": true
  },
  "rise": {
   "enable_chalkboard": true
  }
 },
 "nbformat": 4,
 "nbformat_minor": 2
}